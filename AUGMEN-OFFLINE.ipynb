{
 "cells": [
  {
   "cell_type": "code",
   "execution_count": 31,
   "id": "6b5157d4-0796-4784-93c2-161e37f853c0",
   "metadata": {},
   "outputs": [
    {
     "name": "stdout",
     "output_type": "stream",
     "text": [
      "/home/wii/Tools/custom/augmen_yolo\n"
     ]
    }
   ],
   "source": [
    "cd .."
   ]
  },
  {
   "cell_type": "code",
   "execution_count": 4,
   "id": "7b736477-8857-48bf-8896-923d797bb23d",
   "metadata": {},
   "outputs": [],
   "source": [
    "!for i in *.png ; do convert \"$i\" \"${i%.*}.jpg\" ; done"
   ]
  },
  {
   "cell_type": "code",
   "execution_count": 17,
   "id": "205ae322-bb4b-4784-a7f6-da89c0124fe2",
   "metadata": {},
   "outputs": [
    {
     "name": "stdout",
     "output_type": "stream",
     "text": [
      "Number of images in the folder\n",
      "853\n"
     ]
    }
   ],
   "source": [
    "print(\"Number of images in the folder\")\n",
    "!ls -1 all_images/*.txt | wc -l"
   ]
  },
  {
   "cell_type": "markdown",
   "id": "c1fd85c8-c7bf-476b-9a8a-44fcbcc487d0",
   "metadata": {},
   "source": [
    "## STARTING LIBRARY"
   ]
  },
  {
   "cell_type": "code",
   "execution_count": 32,
   "id": "8b368054-0c79-4b00-9936-fec57e8255e4",
   "metadata": {},
   "outputs": [],
   "source": [
    "from matplotlib import pyplot as plt\n",
    "from clodsa.augmentors.augmentorFactory import createAugmentor\n",
    "from clodsa.transformers.transformerFactory import transformerGenerator\n",
    "from clodsa.techniques.techniqueFactory import createTechnique\n",
    "import xml.etree.ElementTree as ET\n",
    "import cv2\n",
    "%matplotlib inline"
   ]
  },
  {
   "cell_type": "code",
   "execution_count": 33,
   "id": "896a4f6c-b827-4889-8dce-91309b1c834c",
   "metadata": {},
   "outputs": [],
   "source": [
    "PROBLEM = \"detection\"\n",
    "ANNOTATION_MODE = \"yolo\"\n",
    "INPUT_PATH = \"all_images/\"\n",
    "GENERATION_MODE = \"linear\"\n",
    "OUTPUT_MODE = \"yolo\"\n",
    "OUTPUT_PATH= \"augmented_images_yolo\""
   ]
  },
  {
   "cell_type": "code",
   "execution_count": 34,
   "id": "546c591d-83ff-433c-b058-9d8640aa5309",
   "metadata": {},
   "outputs": [],
   "source": [
    "augmentor = createAugmentor(PROBLEM,ANNOTATION_MODE,OUTPUT_MODE,GENERATION_MODE,INPUT_PATH,{\"outputPath\":OUTPUT_PATH})"
   ]
  },
  {
   "cell_type": "code",
   "execution_count": 35,
   "id": "ce75f945-fd5f-4b3a-8a8e-2a081dc989b3",
   "metadata": {},
   "outputs": [],
   "source": [
    "transformer = transformerGenerator(PROBLEM)"
   ]
  },
  {
   "cell_type": "code",
   "execution_count": 36,
   "id": "a468fe4e-665e-48b1-bad0-ce2bd9cde2c4",
   "metadata": {},
   "outputs": [],
   "source": [
    "hFlip = createTechnique(\"flip\",{\"flip\":1})\n",
    "augmentor.addTransformer(transformer(hFlip))"
   ]
  },
  {
   "cell_type": "code",
   "execution_count": 13,
   "id": "34684117-5fa2-4655-bfce-7a208b475274",
   "metadata": {},
   "outputs": [],
   "source": [
    "avgBlur = createTechnique(\"average_blurring\", {\"kernel\" : 5})\n",
    "augmentor.addTransformer(transformer(avgBlur))"
   ]
  },
  {
   "cell_type": "code",
   "execution_count": 37,
   "id": "9a2581ad-c9a9-4b6a-9d5c-295ca1515ff7",
   "metadata": {},
   "outputs": [],
   "source": [
    "saltp = createTechnique(\"salt_and_pepper\", {\"low\" : 0,\"up\":15})\n",
    "augmentor.addTransformer(transformer(saltp))"
   ]
  },
  {
   "cell_type": "code",
   "execution_count": 38,
   "id": "92c1e3a1-29db-4358-9870-d4748c7f5241",
   "metadata": {},
   "outputs": [],
   "source": [
    "dropo = createTechnique(\"dropout\",{\"percentage\":0.05})\n",
    "augmentor.addTransformer(transformer(dropo))"
   ]
  },
  {
   "cell_type": "markdown",
   "id": "e75cb0b1-39cf-4375-a5bb-23d76a8ffb23",
   "metadata": {},
   "source": [
    "## ONLY APPLY WHEN DONE"
   ]
  },
  {
   "cell_type": "code",
   "execution_count": 39,
   "id": "9ecd5a41-e159-4308-b5db-178cfd3bc58e",
   "metadata": {},
   "outputs": [],
   "source": [
    "augmentor.applyAugmentation()"
   ]
  },
  {
   "cell_type": "code",
   "execution_count": 19,
   "id": "c3405d3d-4a58-4167-b847-d3657cf43861",
   "metadata": {},
   "outputs": [],
   "source": [
    "import tensorflow as tf"
   ]
  },
  {
   "cell_type": "code",
   "execution_count": null,
   "id": "500b1c06-8ad2-4b70-b7f9-e25249bcafb8",
   "metadata": {},
   "outputs": [],
   "source": []
  }
 ],
 "metadata": {
  "kernelspec": {
   "display_name": "Python 3",
   "language": "python",
   "name": "python3"
  },
  "language_info": {
   "codemirror_mode": {
    "name": "ipython",
    "version": 3
   },
   "file_extension": ".py",
   "mimetype": "text/x-python",
   "name": "python",
   "nbconvert_exporter": "python",
   "pygments_lexer": "ipython3",
   "version": "3.6.9"
  }
 },
 "nbformat": 4,
 "nbformat_minor": 5
}
